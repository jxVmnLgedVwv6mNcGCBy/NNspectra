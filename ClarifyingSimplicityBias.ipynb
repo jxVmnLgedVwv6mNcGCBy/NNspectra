{
 "cells": [
  {
   "cell_type": "markdown",
   "metadata": {},
   "source": [
    "# Introduction"
   ]
  },
  {
   "cell_type": "markdown",
   "metadata": {},
   "source": [
    "Understanding the behavior of neural networks and why they generalize has been a central pursuit of the theoretical deep learning community.\n",
    "Recently, [Valle-Perez et al. (2019)](http://arxiv.org/abs/1805.08522) observed that neural networks have a certain \"simplicity bias\" and proposed this as a solution to the generalization question.\n",
    "One of the ways with which they argued that this bias exists is the following experiment:\n",
    "they drew a large sample of boolean functions $\\{\\pm1\\}^7 \\to \\{\\pm 1\\}$ by randomly initializing neural networks and thresholding the output.\n",
    "They observed that there is a bias toward some \"simple\" functions which get sampled disproportionately more often.\n",
    "However, their experiments were only done for 2 layer relu networks.\n",
    "Can one expect this \"simplicity bias\" to hold universally, for any architecture?"
   ]
  },
  {
   "cell_type": "markdown",
   "metadata": {},
   "source": [
    "# A Quick Replication of Valle-Perez et al.'s Probability-vs-Rank Experiment"
   ]
  },
  {
   "cell_type": "code",
   "execution_count": 1,
   "metadata": {
    "ExecuteTime": {
     "end_time": "2019-07-27T14:36:28.464636Z",
     "start_time": "2019-07-27T14:36:27.599492Z"
    }
   },
   "outputs": [],
   "source": [
    "import numpy as np\n",
    "import scipy as sp\n",
    "from scipy.special import erf as erf\n",
    "from collections import OrderedDict as OD\n",
    "import matplotlib.pyplot as plt\n",
    "from itertools import product\n",
    "import seaborn as sns\n",
    "sns.set()\n",
    "from mpl_toolkits.axes_grid1 import ImageGrid\n",
    "def tight_layout(plt):\n",
    "    plt.tight_layout(rect=[0, 0.03, 1, 0.95])\n",
    "# our functions for sampling boolean functions belong here\n",
    "from sample_boolean import *\n",
    "np.random.seed(0)\n",
    "_ = torch.manual_seed(0)"
   ]
  },
  {
   "cell_type": "markdown",
   "metadata": {},
   "source": [
    "We sample $10^4$ random neural networks on the 7-dimensional boolean cube $\\{\\pm 1\\}^7$ and threshold the results to get $10^4$ boolean functions.\n",
    "Here, we sample 2 layer relu networks with 40 neurons each, with weights $W_{ij} \\sim \\mathcal N(0, \\sigma_w^2/40) = \\mathcal N(0, 2/40)$ and biases $b_i \\sim \\mathcal N(0, \\sigma_b^2) = \\mathcal N(0, 2)$, following [Valle-Perez et al. (2019)](http://arxiv.org/abs/1805.08522)."
   ]
  },
  {
   "cell_type": "code",
   "execution_count": 2,
   "metadata": {
    "ExecuteTime": {
     "end_time": "2019-07-27T14:36:35.355844Z",
     "start_time": "2019-07-27T14:36:28.466530Z"
    }
   },
   "outputs": [],
   "source": [
    "WIDTHSPEC = (7, 40, 40, 1)\n",
    "nsamples = 10**4\n",
    "funcounters = {'relu': {}}\n",
    "funfreq = {'relu': {}}\n",
    "# vb = sigma_b^2\n",
    "vb = 2\n",
    "# vw = \\sigma_w^2\n",
    "for vw in [2]:\n",
    "    # `funcounters` holds a dictionary (more precisely, a `Counter` object) \n",
    "    # of boolean function (as a string of length 2^7 = 128) to its frequency\n",
    "    funcounters['relu'][vw] = sample_boolean_fun(MyNet(nn.ReLU, WIDTHSPEC), vw, vb, nsamples, outformat='counter')\n",
    "    # `funfreq` just has a list of frequencies\n",
    "    funfreq['relu'][vw] = OD(funcounters['relu'][vw].most_common()).values()"
   ]
  },
  {
   "cell_type": "markdown",
   "metadata": {},
   "source": [
    "Sort the functions according to frequency and then plot its rank in this order versus its empirical probability."
   ]
  },
  {
   "cell_type": "code",
   "execution_count": 3,
   "metadata": {
    "ExecuteTime": {
     "end_time": "2019-07-27T14:36:35.897030Z",
     "start_time": "2019-07-27T14:36:35.357896Z"
    }
   },
   "outputs": [
    {
     "data": {
      "image/png": "[encoded data removed]",
      "text/plain": [
       "<Figure size 432x288 with 1 Axes>"
      ]
     },
     "metadata": {},
     "output_type": "display_data"
    }
   ],
   "source": [
    "plt.plot(np.array(list(funfreq['relu'][2]), dtype='float')/ nsamples, '--', label='relu | 2 | 2')\n",
    "plt.loglog()\n",
    "plt.xlabel('rank')\n",
    "plt.ylabel('probability')\n",
    "plt.title('relu network simplicity bias')\n",
    "plt.show()"
   ]
  },
  {
   "cell_type": "markdown",
   "metadata": {},
   "source": [
    "Indeed, some functions are *way more* likely than others."
   ]
  },
  {
   "cell_type": "markdown",
   "metadata": {},
   "source": [
    "For example, what are the top 4 most frequent boolean functions? They are either constant functions or a single value different from one."
   ]
  },
  {
   "cell_type": "code",
   "execution_count": 4,
   "metadata": {
    "ExecuteTime": {
     "end_time": "2019-07-27T14:36:35.980275Z",
     "start_time": "2019-07-27T14:36:35.898976Z"
    }
   },
   "outputs": [
    {
     "name": "stdout",
     "output_type": "stream",
     "text": [
      "function as a binary string:\n",
      "\t 00000000000000000000000000000000000000000000000000000000000000000000000000000000000000000000000000000000000000000000000000000000\n",
      "frequency\n",
      "\t 1802\n",
      "function as a binary string:\n",
      "\t 11111111111111111111111111111111111111111111111111111111111111111111111111111111111111111111111111111111111111111111111111111111\n",
      "frequency\n",
      "\t 1762\n",
      "function as a binary string:\n",
      "\t 11111111111111111111111111111111111111111111111111111111111111111111110111111111111111111111111111111111111111111111111111111111\n",
      "frequency\n",
      "\t 9\n",
      "function as a binary string:\n",
      "\t 11101111111111111111111111111111111111111111111111111111111111111111111111111111111111111111111111111111111111111111111111111111\n",
      "frequency\n",
      "\t 5\n"
     ]
    }
   ],
   "source": [
    "for boolfun, freq in funcounters['relu'][2].most_common()[:4]:\n",
    "    print('function as a binary string:')\n",
    "    print('\\t', boolfun)\n",
    "    print('frequency')\n",
    "    print('\\t', freq)"
   ]
  },
  {
   "cell_type": "markdown",
   "metadata": {},
   "source": [
    "Hmm this is pretty interesting!\n",
    "Would this phenomenon hold for architectures other than a 2 layer relu network?\n",
    "For example, let's try some networks with sigmoid activations.\n",
    "Here we will use `erf`, since we can do some spectral calculations for it later."
   ]
  },
  {
   "cell_type": "code",
   "execution_count": 5,
   "metadata": {
    "ExecuteTime": {
     "end_time": "2019-07-27T14:37:04.584319Z",
     "start_time": "2019-07-27T14:36:35.982916Z"
    }
   },
   "outputs": [],
   "source": [
    "nsamples = 10**4\n",
    "funcounters['erf'] = {}\n",
    "funfreq['erf'] = {}\n",
    "vb = 0\n",
    "for vw in [1, 2, 4]:\n",
    "    # `funcounters` holds a dictionary (more precisely, a `Counter` object) of boolean function (as a string) to its frequency\n",
    "    funcounters['erf'][vw] = sample_boolean_fun(MyNet(Erf, WIDTHSPEC), vw, vb, nsamples, outformat='counter')\n",
    "    # `funfreq` just has a list of frequencies\n",
    "    funfreq['erf'][vw] = OD(funcounters['erf'][vw].most_common()).values()"
   ]
  },
  {
   "cell_type": "code",
   "execution_count": 6,
   "metadata": {
    "ExecuteTime": {
     "end_time": "2019-07-27T14:37:05.130065Z",
     "start_time": "2019-07-27T14:37:04.586259Z"
    }
   },
   "outputs": [
    {
     "data": {
      "image/png": "[encoded data removed]",
      "text/plain": [
       "<Figure size 432x288 with 1 Axes>"
      ]
     },
     "metadata": {},
     "output_type": "display_data"
    }
   ],
   "source": [
    "plt.plot(np.array(list(funfreq['relu'][2]), dtype='float')/ nsamples, '--', label='relu | 2 | 2')\n",
    "plt.plot(np.array(list(funfreq['erf'][1]), dtype='float')/ nsamples, label='erf | 1 | 0')\n",
    "plt.plot(np.array(list(funfreq['erf'][2]), dtype='float')/ nsamples, label='erf | 2 | 0')\n",
    "plt.plot(np.array(list(funfreq['erf'][4]), dtype='float')/ nsamples, label='erf | 4 | 0')\n",
    "plt.loglog()\n",
    "plt.xlabel('rank')\n",
    "plt.ylabel('probability')\n",
    "\n",
    "plt.title(u'probability vs rank of $10^4$ random networks on $\\{\\pm1\\}^7$')\n",
    "plt.legend(title='$\\phi$ | $\\sigma_w^2$ | $\\sigma_b^2$')\n",
    "plt.show()"
   ]
  },
  {
   "cell_type": "markdown",
   "metadata": {},
   "source": [
    "Looks like this \"simplicity bias\" is diminished when we use `erf`, and then goes away when we increase $\\sigma_w^2$!\n",
    "So it doesn't look like this \"simplicity bias\" is universal.\n",
    "How can we understand this phenomenon better?\n",
    "When can we expect \"simplicity bias\"?"
   ]
  },
  {
   "cell_type": "markdown",
   "metadata": {},
   "source": [
    "# A Spectral Perspective on Simplicity Bias"
   ]
  },
  {
   "cell_type": "markdown",
   "metadata": {},
   "source": [
    "*A priori*, the nonlinear nature seems to present an obstacle in reasoning about the distribution of random networks.\n",
    "However, this question turns out to be more easily treated if we allow the *width to go to infinity*.\n",
    "A long line of works starting with [Neal (1995)](http://www.cs.toronto.edu/~radford/bnn.book.html) and extended recently by [Lee et al. (2018)](https://openreview.net/forum?id=B1EA-M-0Z), [Novak et al. (2019)](https://arxiv.org/abs/1810.05148), and [Yang (2019)](https://arxiv.org/abs/1902.04760) has shown that randomly initialized, infinite-width networks are distributed as Gaussian processes.\n",
    "These Gaussian processes also describe finite width random networks well as confirmed by [Valle-Pereze et al.](http://arxiv.org/abs/1805.08522) themselves.\n",
    "We will refer to the corresponding kernels as the *Conjugate Kernels* (CK), following the terminology of [Daniely et al. (2017)](http://papers.nips.cc/paper/6427-toward-deeper-understanding-of-neural-networks-the-power-of-initialization-and-a-dual-view-on-expressivity.pdf).\n",
    "Given the CK $K$, the simplicity bias of a wide neural network can be read off quickly from the *spectrum of $K$*:\n",
    "If the largest eigenvalue of $K$ accounts for most of its trace, then a typical random network looks like a function from the top eigenspace of $K$.\n"
   ]
  },
  {
   "cell_type": "markdown",
   "metadata": {},
   "source": [
    "More precisely, if we have the eigendecomposition \n",
    "\\begin{equation}\n",
    "K = \\sum_{i \\ge 1} \\lambda_i u_i\\otimes u_i\n",
    "\\label{eqn:eigendecomposition}\n",
    "\\end{equation}\n",
    "with eigenvalues $\\lambda_i$ in decreasing order and corresponding eigenfunctions $u_i$, then each sample (i.e. wide neural network) from this GP can be obtained as \n",
    "$$\n",
    "\\sum_{i \\ge 1} \\sqrt{\\lambda_i} \\omega_i u_i,\\quad\n",
    "\\omega_i \\sim \\mathcal N(0, 1).\n",
    "$$\n",
    "If, for example, $\\lambda_1 \\gg \\sum_{i \\ge 2}\\lambda_i$, then a typical sample function is just a very small perturbation of $u_1$."
   ]
  },
  {
   "cell_type": "markdown",
   "metadata": {},
   "source": [
    "This motivates us to take a look at the spectrum of the CK."
   ]
  },
  {
   "cell_type": "markdown",
   "metadata": {},
   "source": [
    "## A brief summary of the spectral theory of CK"
   ]
  },
  {
   "cell_type": "markdown",
   "metadata": {},
   "source": [
    "Now, if the CK has spectra difficult to compute, then this perspective is not so useful.\n",
    "But in idealized settings, where the data distribution is uniform over the boolean cube, the sphere, or from the standard Gaussian, a complete (or almost complete in the Gaussian case) eigendecomposition of the kernel can be obtained, thanks to the symmetry of the domain.\n",
    "Of course, the probability-vs-rank experiment of Valle-Parez et al. is in this exact setting.\n",
    "Here and in the paper, we focus on the boolean cube, since in high dimensions, all three distributions are very similar, and the boolean cube eigenvalues are much easier to compute (see paper for more details)."
   ]
  },
  {
   "cell_type": "markdown",
   "metadata": {},
   "source": [
    "We briefly summarize the spectral theory of CK and NTK (of multilayer perceptrons, or MLPs) on the boolean cube.\n",
    "First, these kernels are always diagonalized by the *boolean Fourier basis*, which are just monomial functions like $x_1 x_3 x_{10}$.\n",
    "These Fourier basis functions are naturally graded by their *degree*, ranging from 0 to the dimension $d$ of the cube.\n",
    "Then the kernel has $d+1$ unique eigenvalues,\n",
    "$$\\mu_0, \\ldots, \\mu_d$$\n",
    "corresponding to each of the degrees, so that the eigenspace associated to $\\mu_k$ is a $\\binom d k$ dimensional space of monomials with degree $k$.\n",
    "These eigenvalues are simple linear functions of a small number of the kernel values, and can be easily computed."
   ]
  },
  {
   "cell_type": "markdown",
   "metadata": {},
   "source": [
    "So let's compute the eigenvalues of the CK correponding to the architectures we've used above!"
   ]
  },
  {
   "cell_type": "markdown",
   "metadata": {},
   "source": [
    "# Computing Eigenvalues over a Grid of Hyperparameters"
   ]
  },
  {
   "cell_type": "markdown",
   "metadata": {},
   "source": [
    "Our methods for doing the theoretical computations lie in the `theory` module."
   ]
  },
  {
   "cell_type": "code",
   "execution_count": 7,
   "metadata": {
    "ExecuteTime": {
     "end_time": "2019-07-27T14:37:05.134758Z",
     "start_time": "2019-07-27T14:37:05.131973Z"
    }
   },
   "outputs": [],
   "source": [
    "from theory import *"
   ]
  },
  {
   "cell_type": "markdown",
   "metadata": {},
   "source": [
    "First, let's compute the eigenvalues of erf CK and NTK over these hyperparameters:\n",
    "\n",
    "- $\\sigma_w^2 \\in \\{1, 2, 4\\}$\n",
    "- $\\sigma_b^2 = 0$\n",
    "- dimension 7 boolean cube\n",
    "- depth up to 100\n",
    "- degree $k \\le 7$."
   ]
  },
  {
   "cell_type": "code",
   "execution_count": 8,
   "metadata": {
    "ExecuteTime": {
     "end_time": "2019-07-27T14:37:05.241413Z",
     "start_time": "2019-07-27T14:37:05.137656Z"
    }
   },
   "outputs": [],
   "source": [
    "erfvwrange = [1, 2, 4]\n",
    "erfvbrange = [0]\n",
    "s_erfvws, s_erfvbs = np.meshgrid([1, 2, 4], [0], indexing='ij')\n",
    "dim = 7\n",
    "depth = 100\n",
    "maxdeg = 7"
   ]
  },
  {
   "cell_type": "markdown",
   "metadata": {},
   "source": [
    "As mentioned in the paper, any CK or NTK $K$ of multilayer perceptrons (MLPs) takes the form\n",
    "$$K(x, y) = \\Phi\\left(\\frac{\\langle x, y \\rangle}{\\|x\\|\\|y\\|}, \\frac{\\|x\\|^2}d, \\frac{\\|y\\|^2}d\\right)$$\n",
    "for some function $\\Phi: \\mathbb R^3 \\to \\mathbb R$.\n",
    "On the boolean cube $\\{1, -1\\}^d$, $\\|x\\|^2 = d$ for all $x$, and $\\langle x, y \\rangle / d$ takes value in a discrete set $\\{-1, -1+2/d, \\ldots, 1-2/d, 1\\}$.\n",
    "Thus $K(x, y)$ only takes a finite number of different values as well.\n",
    "We first compute these values (see paper for the precise formulas)."
   ]
  },
  {
   "cell_type": "code",
   "execution_count": 9,
   "metadata": {
    "ExecuteTime": {
     "end_time": "2019-07-27T14:37:05.499723Z",
     "start_time": "2019-07-27T14:37:05.243732Z"
    }
   },
   "outputs": [],
   "source": [
    "# `erfkervals` has two entries, with keys `cks` and `ntks`, but the `ntks` entry is not relevant to us here\n",
    "# Each entry is an array with shape (`depth`, len(erfvwrange), len(erfvbrange), `dim`+1)\n",
    "# The last dimension carries the entries $\\Phi(-1), \\Phi(-1 + 2/d), ..., \\Phi(1)$\n",
    "s_erfkervals = boolcubeFgrid(dim, depth, s_erfvws, s_erfvbs, VErf, VDerErf)"
   ]
  },
  {
   "cell_type": "markdown",
   "metadata": {},
   "source": [
    "The eigenvalues $\\mu_k, k = 0, 1, \\ldots, d$, can be expressed a simple linear function of $\\Phi$'s values, as hinted before.\n",
    "However, a naive evaluation would lose too much numerical precision because the number of alternating terms.\n",
    "Instead, we do something more clever, resulting in the following algorithm:\n",
    "\n",
    "- For $\\Delta = 2/d$, we first evaluate $\\Phi^{(a)}(x) = \\frac 1 2 \\left(\\Phi^{(a-1)}(x) - \\Phi^{(a-1)}(x - \\Delta)\\right)$ with base case $\\Phi^{(0)} = \\Phi$, for $a = 0, 1, \\ldots$, and for various values of $x$.\n",
    "- Then we just sum a bunch of nonnegative terms to get the eigenvalue $\\mu_k$ associated to degree $k$ monomials\n",
    "$$\\mu_k = \\frac 1{2^{d-k}} \\sum_{r=0}^{d-k}\\binom{d-k}r \\Phi^{(k)}(1 - r \\Delta).$$\n",
    "\n",
    "Note that, here we will compute *normalized eigenvalues*, normalized by their trace.\n",
    "So these normalized eigenvalues, with multiplicity, should sum up to 1."
   ]
  },
  {
   "cell_type": "code",
   "execution_count": 10,
   "metadata": {
    "ExecuteTime": {
     "end_time": "2019-07-27T14:37:05.645982Z",
     "start_time": "2019-07-27T14:37:05.501761Z"
    }
   },
   "outputs": [],
   "source": [
    "s_erfeigs = {}\n",
    "# `erfeigs['ck']` is an array with shape (`maxdeg`, `depth`+1, len(erfvwrange), len(erfvbrange))\n",
    "# `erfeigs['ck'][k, L] is the matrix of eigenvalue $\\mu_k$ for a depth $L$ erf network,\n",
    "# as a function of the values of $\\sigma_w^2, \\sigma_b^2$ in `erfvwrange` and `erfvbrange`\n",
    "# Note that these eigenvalues are normalized by the trace\n",
    "# (so that all normalized eigenvalues sum up to 1)\n",
    "s_erfeigs['ck'] = relu(boolCubeMuAll(dim, maxdeg, s_erfkervals['cks'], twostep=False))"
   ]
  },
  {
   "cell_type": "markdown",
   "metadata": {},
   "source": [
    "This computes all we need for the erf kernels.\n",
    "Now let's do the relu one."
   ]
  },
  {
   "cell_type": "code",
   "execution_count": 11,
   "metadata": {
    "ExecuteTime": {
     "end_time": "2019-07-27T14:37:05.726346Z",
     "start_time": "2019-07-27T14:37:05.647806Z"
    }
   },
   "outputs": [],
   "source": [
    "s_reluvws, s_reluvbs = np.meshgrid([2], [1], indexing='ij')\n",
    "dim = 7\n",
    "depth = 2\n",
    "maxdeg = 7\n",
    "\n",
    "s_relukervals = boolcubeFgrid(dim, depth, s_reluvws, s_reluvbs, VReLU, VStep)\n",
    "\n",
    "s_relueigs = {}\n",
    "s_relueigs['ck'] = relu(boolCubeMuAll(dim, maxdeg, s_relukervals['cks'], twostep=False))"
   ]
  },
  {
   "cell_type": "markdown",
   "metadata": {},
   "source": [
    "# A Spectral Explanation of the Simplicity Bias"
   ]
  },
  {
   "cell_type": "code",
   "execution_count": 12,
   "metadata": {
    "ExecuteTime": {
     "end_time": "2019-07-27T14:37:05.782842Z",
     "start_time": "2019-07-27T14:37:05.728124Z"
    }
   },
   "outputs": [],
   "source": [
    "def prunesmall(s, thr=1e-14):\n",
    "    t = np.array(s)\n",
    "    t[t<thr] = 0\n",
    "    return t"
   ]
  },
  {
   "cell_type": "code",
   "execution_count": 13,
   "metadata": {
    "ExecuteTime": {
     "end_time": "2019-07-27T14:37:07.136232Z",
     "start_time": "2019-07-27T14:37:05.784693Z"
    }
   },
   "outputs": [
    {
     "data": {
      "image/png": "[encoded data removed]",
      "text/plain": [
       "<Figure size 864x306 with 2 Axes>"
      ]
     },
     "metadata": {},
     "output_type": "display_data"
    }
   ],
   "source": [
    "plt.figure(figsize=(12, 4.25))\n",
    "\n",
    "ax0 = plt.subplot(121)\n",
    "plt.plot(np.array(list(funfreq['relu'][2]), dtype='float')/ nsamples, '--', label='relu | 2 | 2')\n",
    "plt.plot(np.array(list(funfreq['erf'][1]), dtype='float')/ nsamples, label='erf | 1 | 0')\n",
    "plt.plot(np.array(list(funfreq['erf'][2]), dtype='float')/ nsamples, label='erf | 2 | 0')\n",
    "plt.plot(np.array(list(funfreq['erf'][4]), dtype='float')/ nsamples, label='erf | 4 | 0')\n",
    "plt.loglog()\n",
    "plt.xlabel('rank')\n",
    "plt.ylabel('probability')\n",
    "ax0.text(-.15, -.15, '(a)', fontsize=24, transform=ax0.axes.transAxes)\n",
    "\n",
    "plt.title(u'probability vs rank of $10^4$ random networks on $\\{\\pm1\\}^7$')\n",
    "plt.legend(title='$\\phi$ | $\\sigma_w^2$ | $\\sigma_b^2$')\n",
    "\n",
    "\n",
    "ax1 = plt.subplot(122)\n",
    "plt.plot(prunesmall(s_relueigs['ck'][:, -1, 0, 0]), marker='x', linestyle='None', label=r'relu | 2 | 2 | 2')\n",
    "for i in range(3):\n",
    "    plt.plot(prunesmall(s_erfeigs['ck'][:, 2, i, 0]), marker='o', linestyle='None',\n",
    "             label=r'erf | {} | 0 | 2'.format(2**i))\n",
    "plt.plot(prunesmall(s_erfeigs['ck'][:, 32, -1, 0]), marker='*', linestyle='None', label=r'erf | 4 | 0 | 32')\n",
    "\n",
    "plt.legend(title=r'$\\phi$ | $\\sigma_w^2$ | $\\sigma_b^2$ | depth', loc='lower left')\n",
    "plt.xlabel('degree $k$')\n",
    "plt.ylabel(r'normalized eigenvalue $\\tilde{\\mu}_k$')\n",
    "plt.title('erf networks lose simplicity bias for large $\\sigma_w^2$ and depth')\n",
    "plt.semilogy()\n",
    "ax1.text(-.15, -.15, '(b)', fontsize=24, transform=ax1.axes.transAxes)\n",
    "\n",
    "tight_layout(plt)"
   ]
  },
  {
   "cell_type": "markdown",
   "metadata": {},
   "source": [
    "In **(a)**, we have reproduced the plot from above.\n",
    "In **(b)** we have plotted the 8 unique (normalized) eigenvalues for the CK of each architecture given in the legend."
   ]
  },
  {
   "cell_type": "markdown",
   "metadata": {},
   "source": [
    "Immediately, we see that for relu and $\\sigma_w^2 = \\sigma_b^2 = 2$, the degree 0 eigenspace, corresponding to constant functions, accounts for more than $80\\%$ of the variance.\n",
    "This means that a typical infinite-width relu network of 2 layers is expected to be almost constant, and this should be even more true after we threshold the network to be a boolean function.\n",
    "Indeed, this is exactly what we saw in [Section 2](#A-Quick-Replication-of-Valle-Perez-et-al.'s-Frequency-vs-Rank-Experiment)"
   ]
  },
  {
   "cell_type": "markdown",
   "metadata": {},
   "source": [
    "On the other hand, for erf and $\\sigma_b = 0$, the even degree $\\mu_k$s all vanish, and most of the variance comes from degree 1 components (i.e. linear functions).\n",
    "This concentration in degree 1 also lessens as $\\sigma_w^2$ increases.\n",
    "But because this variance is spread across a dimension 7 eigenspace, we don't see duplicate function samples nearly as much as in the relu case.\n",
    "As $\\sigma_w$ increases, we also see the eigenvalues become more equally distributed, which corresponds to the flattening of the probability-vs-rank curve in (a)."
   ]
  },
  {
   "cell_type": "markdown",
   "metadata": {},
   "source": [
    "Finally, we observe that a 32-layer erf network with $\\sigma_w^2 = 4$ has all its nonzero eigenvalues (associated to odd degrees) all equal (see points marked by $*$ in (b)).\n",
    "This means that its distribution is a \"white noise\" on the space of *odd* functions, and the distribution of boolean functions obtained by thresholding the Gaussian process samples is the *uniform distribution* on *odd* functions.\n",
    "This is the complete lack of simplicity bias modulo the oddness constraint.\n",
    "Therefore, the simplicity bias is *really far away* from being universal to all neural networks, and seems more like a particular (nice) property of relu."
   ]
  },
  {
   "cell_type": "markdown",
   "metadata": {},
   "source": [
    "However, from the spectral perspective, there is a weak sense in which a simplicity bias holds for all neural network-induced CKs and NTKs.\n",
    "We prove the following theorem in the paper."
   ]
  },
  {
   "cell_type": "markdown",
   "metadata": {},
   "source": [
    "**Theorem (Weak Spectral Simplicity Bias).**\n",
    "Let $K$ be the CK of an MLP (with any nonlinearity) on a boolean cube $\\{\\pm1\\}^d$.\n",
    "Then the eigenvalues $\\mu_k, k = 0, \\ldots, d,$ satisfy\n",
    "\\begin{equation}\n",
    "\\mu_0 \\ge \\mu_2 \\ge \\cdots \\ge \\mu_{2k} \\ge \\cdots,\\quad\n",
    "\\mu_1 \\ge \\mu_3 \\ge \\cdots \\ge \\mu_{2k+1} \\ge \\cdots.\n",
    "\\label{eqn:weaksimplicitybias}\n",
    "\\end{equation}"
   ]
  },
  {
   "cell_type": "markdown",
   "metadata": {},
   "source": [
    "Even though it's not true that the fraction of variance contributed by the degree $k$ eigenspace is decreasing with $k$, the eigenvalue themselves will be in a nonincreasing pattern across even and odd degrees.\n",
    "Of course, as we have seen, this is a *very weak* sense of simplicity bias, as it doesn't prevent \"white noise\" behavior as in the case of erf CK with large $\\sigma_w^2$ and large depth."
   ]
  },
  {
   "cell_type": "markdown",
   "metadata": {},
   "source": [
    "# Conclusion"
   ]
  },
  {
   "cell_type": "markdown",
   "metadata": {},
   "source": [
    "We have clarified the extent of \"simplicity bias\" in neural networks from the angle of eigendecomposition of the associated infinite-width conjugate kernel.\n",
    "While this bias does not seem universal, it could still be that, architectures benefiting from a simplicity bias also do generalize better.\n",
    "This would require some knowledge of the training of neural networks though.\n",
    "Coincidentally, recent advances in deep learning theory have revealed that a different kernel, the *Neural Tangent Kernel*, in fact governs the evolution of NN gradient descent dynamics.\n",
    "We discuss training and generalization from a spectral analysis of the NTK in the notebook *[Neural Network Generalization](NeuralNetworkGeneralization.ipynb)*, and more thoroughly in our full paper [*A Fine-Grained Spectral Perspective on Neural Networks*](https://arxiv.org/abs/1907.10599)."
   ]
  },
  {
   "cell_type": "markdown",
   "metadata": {},
   "source": [
    "# Appendix"
   ]
  },
  {
   "cell_type": "markdown",
   "metadata": {},
   "source": [
    "## The $\\{0, 1\\}^d$ Boolean Cube vs the $\\{\\pm 1 \\}^d$ Boolean Cube"
   ]
  },
  {
   "cell_type": "markdown",
   "metadata": {},
   "source": [
    "[Valle-Perez et al.]() actually did their experiments on the $\\{0, 1\\}^d$ boolean cube, whereas in the paper and the notebook here, we have focused on the $\\{\\pm 1\\}^d$ boolean cube.\n",
    "As datasets are typically centered before feeding into a neural network (for example, using `torchvision.transform.Normalize`), $\\{\\pm 1\\}^d$ is much more natural.\n",
    "In comparison, using the $\\{0, 1\\}^d$ cube is equivalent to adding a bias in the input of a network and reducing the weight variance in the input layer, since any $x \\in \\{\\pm 1\\}^d$ corresponds to $\\frac 1 2 (x + 1) \\in \\{0, 1\\}^d$."
   ]
  },
  {
   "cell_type": "markdown",
   "metadata": {},
   "source": [
    "Nevertheless, here we verify that the main point of the paper and of the examples above still holds over the $\\{0, 1\\}^d$ cube.\n",
    "Let's do the same experiments as the beginning for $\\{0, 1\\}^d$."
   ]
  },
  {
   "cell_type": "code",
   "execution_count": 14,
   "metadata": {
    "ExecuteTime": {
     "end_time": "2019-07-27T14:37:14.188389Z",
     "start_time": "2019-07-27T14:37:07.139203Z"
    }
   },
   "outputs": [],
   "source": [
    "WIDTHSPEC = (7, 40, 40, 1)\n",
    "nsamples = 10**4\n",
    "funcounters = {'relu': {}}\n",
    "funfreq = {'relu': {}}\n",
    "# vb = sigma_b^2\n",
    "vb = 2\n",
    "# vw = \\sigma_w^2\n",
    "for vw in [2]:\n",
    "    # `funcounters` holds a dictionary (more precisely, a `Counter` object) \n",
    "    # of boolean function (as a string of length 2^7 = 128) to its frequency\n",
    "    funcounters['relu'][vw] = sample_boolean_fun(MyNet(nn.ReLU, WIDTHSPEC), vw, vb, nsamples, outformat='counter',\n",
    "                                                bit=[0, 1]) # this allows us to sample over the {0, 1} cube\n",
    "    # `funfreq` just has a list of frequencies\n",
    "    funfreq['relu'][vw] = OD(funcounters['relu'][vw].most_common()).values()"
   ]
  },
  {
   "cell_type": "code",
   "execution_count": 15,
   "metadata": {
    "ExecuteTime": {
     "end_time": "2019-07-27T14:37:43.012069Z",
     "start_time": "2019-07-27T14:37:14.190269Z"
    }
   },
   "outputs": [],
   "source": [
    "nsamples = 10**4\n",
    "funcounters['erf'] = {}\n",
    "funfreq['erf'] = {}\n",
    "vb = 0\n",
    "for vw in [1, 2, 4]:\n",
    "    # `funcounters` holds a dictionary (more precisely, a `Counter` object) of boolean function (as a string) to its frequency\n",
    "    funcounters['erf'][vw] = sample_boolean_fun(MyNet(Erf, WIDTHSPEC), vw, vb, nsamples, outformat='counter',\n",
    "                                               bit=[0, 1]) # this allows us to sample over the {0, 1} cube\n",
    "    # `funfreq` just has a list of frequencies\n",
    "    funfreq['erf'][vw] = OD(funcounters['erf'][vw].most_common()).values()"
   ]
  },
  {
   "cell_type": "markdown",
   "metadata": {},
   "source": [
    "Let's also try a 32 layer erf network with $\\sigma_w^2 = 4$, which gives a \"white noise\" distribution over $\\{\\pm 1\\}^d$"
   ]
  },
  {
   "cell_type": "code",
   "execution_count": 16,
   "metadata": {
    "ExecuteTime": {
     "end_time": "2019-07-27T14:39:53.617158Z",
     "start_time": "2019-07-27T14:37:43.014115Z"
    }
   },
   "outputs": [],
   "source": [
    "nsamples = 10**4\n",
    "vw = 4\n",
    "vb = 0\n",
    "widthspec = [7] + [40] * 32 + [1]\n",
    "funcounters['deeperf'] = sample_boolean_fun(MyNet(Erf, widthspec), vw, vb, nsamples, outformat='counter',\n",
    "                                           bit=[0, 1])  # this allows us to sample over the {0, 1} cube\n",
    "funfreq['deeperf'] = OD(funcounters['deeperf'].most_common()).values()"
   ]
  },
  {
   "cell_type": "markdown",
   "metadata": {},
   "source": [
    "Plot them as before..."
   ]
  },
  {
   "cell_type": "code",
   "execution_count": 17,
   "metadata": {
    "ExecuteTime": {
     "end_time": "2019-07-27T14:39:54.266003Z",
     "start_time": "2019-07-27T14:39:53.619010Z"
    }
   },
   "outputs": [
    {
     "data": {
      "text/plain": [
       "<matplotlib.legend.Legend at 0x7f03d11a2fd0>"
      ]
     },
     "execution_count": 17,
     "metadata": {},
     "output_type": "execute_result"
    },
    {
     "data": {
      "image/png": "[encoded data removed]",
      "text/plain": [
       "<Figure size 432x288 with 1 Axes>"
      ]
     },
     "metadata": {},
     "output_type": "display_data"
    }
   ],
   "source": [
    "plt.plot(np.array(list(funfreq['relu'][2]), dtype='float')/ nsamples, '--', label='relu | 2 | 2 | 2')\n",
    "plt.plot(np.array(list(funfreq['erf'][1]), dtype='float')/ nsamples, label='erf | 1 | 0 | 2')\n",
    "plt.plot(np.array(list(funfreq['erf'][2]), dtype='float')/ nsamples, label='erf | 2 | 0 | 2')\n",
    "plt.plot(np.array(list(funfreq['erf'][4]), dtype='float')/ nsamples, label='erf | 4 | 0 | 2')\n",
    "plt.plot(np.array(list(funfreq['deeperf']), dtype='float')/ nsamples, label='erf | 4 | 0 | 32')\n",
    "plt.loglog()\n",
    "plt.xlabel('rank')\n",
    "plt.ylabel('probability')\n",
    "\n",
    "plt.title(u'probability vs rank of $10^4$ random networks on $\\{0, 1\\}^7$')\n",
    "plt.legend(title='$\\phi$ | $\\sigma_w^2$ | $\\sigma_b^2$ | depth')"
   ]
  },
  {
   "cell_type": "markdown",
   "metadata": {},
   "source": [
    "Just like over the $\\{\\pm 1\\}^d$ cube, the relu network biases significantly toward certain functions, but with erf, and with increasing $\\sigma_w^2$, this lessens.\n",
    "With depth 32 and $\\sigma_w^2$, the boolean functions obtained from erf network see no bias at all."
   ]
  }
 ],
 "metadata": {
  "hide_input": false,
  "kernelspec": {
   "display_name": "Python 3",
   "language": "python",
   "name": "python3"
  },
  "language_info": {
   "codemirror_mode": {
    "name": "ipython",
    "version": 3
   },
   "file_extension": ".py",
   "mimetype": "text/x-python",
   "name": "python",
   "nbconvert_exporter": "python",
   "pygments_lexer": "ipython3",
   "version": "3.6.8"
  },
  "toc": {
   "base_numbering": 1,
   "nav_menu": {},
   "number_sections": true,
   "sideBar": true,
   "skip_h1_title": false,
   "title_cell": "Table of Contents",
   "title_sidebar": "Contents",
   "toc_cell": false,
   "toc_position": {},
   "toc_section_display": true,
   "toc_window_display": false
  }
 },
 "nbformat": 4,
 "nbformat_minor": 2
}
